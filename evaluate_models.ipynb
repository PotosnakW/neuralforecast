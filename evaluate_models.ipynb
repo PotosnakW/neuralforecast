{
 "cells": [
  {
   "cell_type": "code",
   "execution_count": null,
   "id": "41828023-e18b-41f0-8b59-69f9f31d4405",
   "metadata": {},
   "outputs": [],
   "source": [
    "import numpy as np\n",
    "import pandas as pd\n",
    "\n",
    "from neuralforecast.losses.numpy import mae, rmse\n"
   ]
  },
  {
   "cell_type": "code",
   "execution_count": null,
   "id": "9e7150f8-2c70-4ac2-8bc8-45803f0d0921",
   "metadata": {},
   "outputs": [],
   "source": []
  },
  {
   "cell_type": "code",
   "execution_count": null,
   "id": "716a9166-0419-4a1f-97b6-9865d9e8b675",
   "metadata": {},
   "outputs": [],
   "source": [
    "def _evaluate_ohiot1dm(Y_hat_df, av_mask, model_name):\n",
    "    results_df = Y_hat_df.copy()\n",
    "    # Filter values with at least 1 available mask in input window\n",
    "    results_df = results_df.merge(av_mask[['unique_id', 'cutoff', 'sum_av_mask']], on=['unique_id', 'cutoff'], how='left')\n",
    "    results_df = results_df[results_df['sum_av_mask'] > 0].reset_index(drop=True)\n",
    "    # Filter ffill values of y\n",
    "    results_df = results_df[results_df.available_mask==1]\n",
    "    # Keep critical values of y\n",
    "    results_critical_df = results_df[(results_df.y<=70) | (results_df.y>=180)]\n",
    "    \n",
    "    return mae(results_df['y'], results_df[model_name]), mae(results_critical_df['y'], results_critical_df[model_name]), rmse(results_df['y'], results_df[model_name]), rmse(results_critical_df['y'], results_critical_df[model_name])\n",
    "\n",
    "def get_ohiot1dm_results(dataset, trials, model_name, approach):\n",
    "    mae_group = []\n",
    "    mae_critical_group = []\n",
    "    rmse_group = []\n",
    "    rmse_critical_group = []\n",
    "    \n",
    "    for trial in trials:\n",
    "\n",
    "        if 'exog' in dataset:\n",
    "            base_df_name = dataset.replace('exog', '')\n",
    "        else:\n",
    "            base_df_name = dataset\n",
    "            \n",
    "        results = pd.read_csv(f'./results/{dataset}_6/{approach}_models/trial_{approach}_{trial}/forecasts.csv')\n",
    "        avmask = pd.read_csv(f'./data/{base_df_name}_exog_9_day_test_avmask.csv')\n",
    "    \n",
    "        mae_all, mae_critical, rmse_all, rmse_critical = _evaluate_ohiot1dm(results, avmask, model_name)\n",
    "    \n",
    "        mae_group.append(mae_all)\n",
    "        mae_critical_group.append(mae_critical)\n",
    "        rmse_group.append(rmse_all)\n",
    "        rmse_critical_group.append(rmse_critical)\n",
    "    \n",
    "    mae_group = np.array(mae_group)\n",
    "    mae_critical_group = np.array(mae_critical_group)\n",
    "    rmse_group = np.array(rmse_group)\n",
    "    rmse_critical_group = np.array(rmse_critical_group)\n",
    "    \n",
    "    return np.mean(mae_group), np.std(mae_group), np.mean(mae_critical_group), np.std(mae_critical_group), np.mean(rmse_group), np.std(rmse_group), np.mean(rmse_critical_group), np.std(rmse_critical_group)\n",
    "\n",
    "def get_simglucose_results(dataset, trials, model_name, approach):\n",
    "    mae_group = []\n",
    "    mae_critical_group = []\n",
    "    rmse_group = []\n",
    "    rmse_critical_group = []\n",
    "    \n",
    "    for trial in trials:\n",
    "    \n",
    "        results = pd.read_csv(f'./results/{dataset}_6/{approach}_models/trial_{approach}_{trial}/forecasts.csv')\n",
    "    \n",
    "        results_critical = results[(results.y<=70) | (results.y>=180)]\n",
    "    \n",
    "        mae_all, mae_critical = mae(results.y, results[model_name]), mae(results_critical.y, results_critical[model_name])\n",
    "        rmse_all, rmse_critical = rmse(results.y, results[model_name]), rmse(results_critical.y, results_critical[model_name])\n",
    "    \n",
    "        mae_group.append(mae_all)\n",
    "        mae_critical_group.append(mae_critical)\n",
    "        rmse_group.append(rmse_all)\n",
    "        rmse_critical_group.append(rmse_critical)\n",
    "    \n",
    "    mae_group = np.array(mae_group)\n",
    "    mae_critical_group = np.array(mae_critical_group)\n",
    "    rmse_group = np.array(rmse_group)\n",
    "    rmse_critical_group = np.array(rmse_critical_group)\n",
    "\n",
    "    return np.mean(mae_group), np.std(mae_group), np.mean(mae_critical_group), np.std(mae_critical_group), np.mean(rmse_group), np.std(rmse_group), np.mean(rmse_critical_group), np.std(rmse_critical_group)\n"
   ]
  },
  {
   "cell_type": "code",
   "execution_count": null,
   "id": "2c5d2750-c623-4b6a-95da-b19a9b762090",
   "metadata": {},
   "outputs": [],
   "source": []
  },
  {
   "cell_type": "markdown",
   "id": "8ab8b012-b3fe-46b5-aa7c-3a6a9d54576b",
   "metadata": {},
   "source": [
    "## OhioT1DM MAE and RMSE Results"
   ]
  },
  {
   "cell_type": "code",
   "execution_count": null,
   "id": "5953f742-8d3e-40fb-938c-d01f295e0d94",
   "metadata": {},
   "outputs": [],
   "source": [
    "dataset = 'ohiot1dm'\n",
    "approach = 'baseline'\n",
    "model_names = ['AutoNHITS']\n",
    "trials = range(8)\n",
    "\n",
    "for model_name in model_names:\n",
    "    mm, ms, mcm, mcs, rm, rs, rcm, rcs = get_ohiot1dm_results(dataset, trials, model_name, approach)\n",
    "    final_mae = pd.DataFrame([[mm, ms, mcm, mcs]], index=[model_name]).round(3)\n",
    "    final_rmse = pd.DataFrame([[rm, rs, rcm, rcs]], index=[model_name]).round(3)\n",
    "    display(final_mae, final_rmse)"
   ]
  },
  {
   "cell_type": "code",
   "execution_count": null,
   "id": "7332c7f7-603c-4023-8b66-2423c22a45bc",
   "metadata": {},
   "outputs": [],
   "source": []
  },
  {
   "cell_type": "code",
   "execution_count": null,
   "id": "46385151-3f10-4a37-a948-088afaaa0e4a",
   "metadata": {},
   "outputs": [],
   "source": [
    "dataset = 'ohiot1dm_exog'\n",
    "approach = 'baseline'\n",
    "model_names = ['AutoNHITS']\n",
    "trials = range(8)\n",
    "\n",
    "for model_name in model_names:\n",
    "    mm, ms, mcm, mcs, rm, rs, rcm, rcs = get_ohiot1dm_results(dataset, trials, model_name, approach)\n",
    "    final_mae = pd.DataFrame([[mm, ms, mcm, mcs]], index=[model_name]).round(3)\n",
    "    final_rmse = pd.DataFrame([[rm, rs, rcm, rcs]], index=[model_name]).round(3)\n",
    "    display(final_mae, final_rmse)"
   ]
  },
  {
   "cell_type": "code",
   "execution_count": null,
   "id": "389304e7-755d-44fb-85bb-3634d5591bda",
   "metadata": {},
   "outputs": [],
   "source": []
  },
  {
   "cell_type": "code",
   "execution_count": null,
   "id": "b7e5fdf5-67bd-4880-8c9f-97c9b250b77a",
   "metadata": {},
   "outputs": [],
   "source": [
    "dataset = 'ohiot1dm_exog'\n",
    "approach = 'sum_total'\n",
    "model_names = ['AutoNHITS_TREAT']\n",
    "trials = range(8)\n",
    "\n",
    "for model_name in model_names:\n",
    "    mm, ms, mcm, mcs, rm, rs, rcm, rcs = get_ohiot1dm_results(dataset, trials, model_name, approach)\n",
    "    final_mae = pd.DataFrame([[mm, ms, mcm, mcs]], index=[model_name]).round(3)\n",
    "    final_rmse = pd.DataFrame([[rm, rs, rcm, rcs]], index=[model_name]).round(3)\n",
    "    display(final_mae, final_rmse)"
   ]
  },
  {
   "cell_type": "code",
   "execution_count": null,
   "id": "825758a9-c672-4d00-8c57-ad1bd2c564e8",
   "metadata": {},
   "outputs": [],
   "source": []
  },
  {
   "cell_type": "code",
   "execution_count": null,
   "id": "453048a9-fac5-4edd-aa5f-1d0cdf15c3cb",
   "metadata": {},
   "outputs": [],
   "source": [
    "dataset = 'ohiot1dm_exog'\n",
    "approach = 'treat'\n",
    "model_names = ['AutoNHITS_TREAT']\n",
    "trials = range(8)\n",
    "\n",
    "for model_name in model_names:\n",
    "    mm, ms, mcm, mcs, rm, rs, rcm, rcs = get_ohiot1dm_results(dataset, trials, model_name, approach)\n",
    "    final_mae = pd.DataFrame([[mm, ms, mcm, mcs]], index=[model_name]).round(3)\n",
    "    final_rmse = pd.DataFrame([[rm, rs, rcm, rcs]], index=[model_name]).round(3)\n",
    "    display(final_mae, final_rmse)"
   ]
  },
  {
   "cell_type": "code",
   "execution_count": null,
   "id": "400b0201-b095-49f2-9b2f-8ae8da49bd19",
   "metadata": {},
   "outputs": [],
   "source": []
  },
  {
   "cell_type": "markdown",
   "id": "ff9b5747-51eb-43b6-ad3f-ca05a2b6442e",
   "metadata": {},
   "source": [
    "## Simglucose MAE and RMSE Results"
   ]
  },
  {
   "cell_type": "code",
   "execution_count": null,
   "id": "e5ade76b-01aa-4d86-ba8e-06e64997b0fa",
   "metadata": {},
   "outputs": [],
   "source": [
    "dataset = 'simglucose'\n",
    "approach = 'baseline'\n",
    "model_names = ['AutoNHITS']\n",
    "trials = range(8)\n",
    "\n",
    "for model_name in model_names:\n",
    "    mm, ms, mcm, mcs, rm, rs, rcm, rcs = get_simglucose_results(dataset, trials, model_name, approach)\n",
    "    final_mae = pd.DataFrame([[mm, ms, mcm, mcs]], index=[model_name]).round(3)\n",
    "    final_rmse = pd.DataFrame([[rm, rs, rcm, rcs]], index=[model_name]).round(3)\n",
    "    display(final_mae, final_rmse)"
   ]
  },
  {
   "cell_type": "code",
   "execution_count": null,
   "id": "3af81c0d-24b1-4daa-bff2-d2dbee424bd7",
   "metadata": {},
   "outputs": [],
   "source": []
  },
  {
   "cell_type": "code",
   "execution_count": null,
   "id": "013f60af-0ee2-4e5b-bdfe-c75ee410518b",
   "metadata": {},
   "outputs": [],
   "source": [
    "dataset = 'simglucose_exog'\n",
    "approach = 'baseline'\n",
    "model_names = ['AutoNHITS']\n",
    "trials = range(8)\n",
    "\n",
    "for model_name in model_names:\n",
    "    mm, ms, mcm, mcs, rm, rs, rcm, rcs = get_simglucose_results(dataset, trials, model_name, approach)\n",
    "    final_mae = pd.DataFrame([[mm, ms, mcm, mcs]], index=[model_name]).round(3)\n",
    "    final_rmse = pd.DataFrame([[rm, rs, rcm, rcs]], index=[model_name]).round(3)\n",
    "    display(final_mae, final_rmse)"
   ]
  },
  {
   "cell_type": "code",
   "execution_count": null,
   "id": "962e7d4d-260b-47b6-afac-72923741e9f6",
   "metadata": {},
   "outputs": [],
   "source": []
  },
  {
   "cell_type": "code",
   "execution_count": null,
   "id": "2c7ed137-1877-44ea-ac96-7eb1357be679",
   "metadata": {},
   "outputs": [],
   "source": [
    "dataset = 'simglucose_exog'\n",
    "approach = 'sum_total'\n",
    "model_names = ['AutoNHITS_TREAT']\n",
    "trials = range(8)\n",
    "\n",
    "for model_name in model_names:\n",
    "    mm, ms, mcm, mcs, rm, rs, rcm, rcs = get_simglucose_results(dataset, trials, model_name, approach)\n",
    "    final_mae = pd.DataFrame([[mm, ms, mcm, mcs]], index=[model_name]).round(3)\n",
    "    final_rmse = pd.DataFrame([[rm, rs, rcm, rcs]], index=[model_name]).round(3)\n",
    "    display(final_mae, final_rmse)"
   ]
  },
  {
   "cell_type": "code",
   "execution_count": null,
   "id": "83ecb0ec-9fff-41c3-8155-30fa51977766",
   "metadata": {},
   "outputs": [],
   "source": []
  },
  {
   "cell_type": "code",
   "execution_count": null,
   "id": "67859091-2d8e-44d3-9756-c12b79b0b867",
   "metadata": {},
   "outputs": [],
   "source": [
    "dataset = 'simglucose_exog'\n",
    "approach = 'treat'\n",
    "model_names = ['AutoNHITS_TREAT']\n",
    "trials = range(8)\n",
    "\n",
    "for model_name in model_names:\n",
    "    mm, ms, mcm, mcs, rm, rs, rcm, rcs = get_simglucose_results(dataset, trials, model_name, approach)\n",
    "    final_mae = pd.DataFrame([[mm, ms, mcm, mcs]], index=[model_name]).round(3)\n",
    "    final_rmse = pd.DataFrame([[rm, rs, rcm, rcs]], index=[model_name]).round(3)\n",
    "    display(final_mae, final_rmse)"
   ]
  },
  {
   "cell_type": "code",
   "execution_count": null,
   "id": "5770a47b-be36-49df-8b6b-d753938b926b",
   "metadata": {},
   "outputs": [],
   "source": []
  }
 ],
 "metadata": {
  "kernelspec": {
   "display_name": "Python 3 (ipykernel)",
   "language": "python",
   "name": "python3"
  },
  "language_info": {
   "codemirror_mode": {
    "name": "ipython",
    "version": 3
   },
   "file_extension": ".py",
   "mimetype": "text/x-python",
   "name": "python",
   "nbconvert_exporter": "python",
   "pygments_lexer": "ipython3",
   "version": "3.8.3"
  }
 },
 "nbformat": 4,
 "nbformat_minor": 5
}
